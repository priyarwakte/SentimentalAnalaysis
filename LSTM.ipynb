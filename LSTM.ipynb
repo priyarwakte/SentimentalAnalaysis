{
 "cells": [
  {
   "cell_type": "markdown",
   "metadata": {
    "id": "qC95u6Zzwfg9"
   },
   "source": [
    "Importing Libraries"
   ]
  },
  {
   "cell_type": "code",
   "execution_count": 10,
   "metadata": {
    "id": "mh0YLV_Jweal"
   },
   "outputs": [],
   "source": [
    "import numpy\n",
    "from keras.datasets import imdb\n",
    "from keras.models import Sequential\n",
    "from keras.layers import Dense\n",
    "from keras.layers import LSTM\n",
    "from keras.layers.embeddings import Embedding\n",
    "from keras.preprocessing import sequence"
   ]
  },
  {
   "cell_type": "markdown",
   "metadata": {
    "id": "erAdTAafwr0G"
   },
   "source": [
    "Fixing random seed for reproducibility"
   ]
  },
  {
   "cell_type": "code",
   "execution_count": 11,
   "metadata": {
    "id": "8Rus7FvQwp7T"
   },
   "outputs": [],
   "source": [
    "numpy.random.seed(7)"
   ]
  },
  {
   "cell_type": "markdown",
   "metadata": {
    "id": "5IDhhzw-wx9h"
   },
   "source": [
    "Load dataset but keep only top 5000 words, others will be zero"
   ]
  },
  {
   "cell_type": "code",
   "execution_count": 12,
   "metadata": {
    "colab": {
     "base_uri": "https://localhost:8080/"
    },
    "id": "t18nn0TQwyqb",
    "outputId": "59809494-8b48-4fa8-d7db-869d9bb35145"
   },
   "outputs": [
    {
     "name": "stdout",
     "output_type": "stream",
     "text": [
      "Downloading data from https://storage.googleapis.com/tensorflow/tf-keras-datasets/imdb.npz\n",
      "17465344/17464789 [==============================] - 0s 0us/step\n",
      "17473536/17464789 [==============================] - 0s 0us/step\n"
     ]
    }
   ],
   "source": [
    "top_words = 5000\n",
    "(X_train, y_train), (X_test, y_test) = imdb.load_data(num_words=top_words)"
   ]
  },
  {
   "cell_type": "markdown",
   "metadata": {
    "id": "xn9-fWHww1wj"
   },
   "source": [
    "truncating and pading input sequences"
   ]
  },
  {
   "cell_type": "code",
   "execution_count": 13,
   "metadata": {
    "id": "EPPmdq-Sw20i"
   },
   "outputs": [],
   "source": [
    "max_review_length = 500\n",
    "X_train = sequence.pad_sequences(X_train, maxlen=max_review_length)\n",
    "X_test = sequence.pad_sequences(X_test, maxlen=max_review_length)"
   ]
  },
  {
   "cell_type": "markdown",
   "metadata": {
    "id": "-LZQ96pJw5_b"
   },
   "source": [
    "creating the model"
   ]
  },
  {
   "cell_type": "code",
   "execution_count": 17,
   "metadata": {
    "colab": {
     "base_uri": "https://localhost:8080/"
    },
    "id": "xlmNQQw8w62U",
    "outputId": "5d9fdf36-a703-4647-c221-e58c1a0df729"
   },
   "outputs": [
    {
     "name": "stdout",
     "output_type": "stream",
     "text": [
      "Model: \"sequential_1\"\n",
      "_________________________________________________________________\n",
      "Layer (type)                 Output Shape              Param #   \n",
      "=================================================================\n",
      "embedding_2 (Embedding)      (None, 500, 32)           160000    \n",
      "_________________________________________________________________\n",
      "lstm_3 (LSTM)                (None, 100)               53200     \n",
      "_________________________________________________________________\n",
      "dense_2 (Dense)              (None, 1)                 101       \n",
      "=================================================================\n",
      "Total params: 213,301\n",
      "Trainable params: 213,301\n",
      "Non-trainable params: 0\n",
      "_________________________________________________________________\n",
      "None\n",
      "Epoch 1/5\n",
      "391/391 [==============================] - 218s 554ms/step - loss: 0.5214 - accuracy: 0.7315\n",
      "Epoch 2/5\n",
      "391/391 [==============================] - 217s 554ms/step - loss: 0.3112 - accuracy: 0.8710\n",
      "Epoch 3/5\n",
      "391/391 [==============================] - 216s 553ms/step - loss: 0.2492 - accuracy: 0.9016\n",
      "Epoch 4/5\n",
      "391/391 [==============================] - 217s 555ms/step - loss: 0.2132 - accuracy: 0.9172\n",
      "Epoch 5/5\n",
      "391/391 [==============================] - 218s 556ms/step - loss: 0.1919 - accuracy: 0.9262\n"
     ]
    },
    {
     "data": {
      "text/plain": [
       "<keras.callbacks.History at 0x7fe8d2fd2c10>"
      ]
     },
     "execution_count": 17,
     "metadata": {},
     "output_type": "execute_result"
    }
   ],
   "source": [
    "embedding_vector_length = 32\n",
    "model = Sequential()\n",
    "model.add(Embedding(top_words, embedding_vector_length, input_length=max_review_length))\n",
    "model.add(LSTM(100))\n",
    "model.add(Dense(1, activation='sigmoid'))\n",
    "model.compile(loss='binary_crossentropy', optimizer='adam', metrics=['accuracy'])\n",
    "print(model.summary())\n",
    "model.fit(X_train, y_train, epochs=5, batch_size=64)"
   ]
  },
  {
   "cell_type": "markdown",
   "metadata": {
    "id": "pqYhaXuzw-AO"
   },
   "source": [
    "Predicting on test data"
   ]
  },
  {
   "cell_type": "code",
   "execution_count": 18,
   "metadata": {
    "colab": {
     "base_uri": "https://localhost:8080/"
    },
    "id": "1n41YB7xw_dG",
    "outputId": "c8abbbdf-941d-4480-ce68-7d92d2bde620"
   },
   "outputs": [
    {
     "name": "stdout",
     "output_type": "stream",
     "text": [
      "[[0.03000125]\n",
      " [0.9935244 ]\n",
      " [0.8287724 ]\n",
      " ...\n",
      " [0.0361636 ]\n",
      " [0.22088951]\n",
      " [0.9382732 ]]\n"
     ]
    }
   ],
   "source": [
    "pred = model.predict(X_test)\n",
    "print(pred)\n"
   ]
  },
  {
   "cell_type": "markdown",
   "metadata": {
    "id": "milCAYgDxAON"
   },
   "source": [
    "Final evaluation of the model"
   ]
  },
  {
   "cell_type": "code",
   "execution_count": 19,
   "metadata": {
    "colab": {
     "base_uri": "https://localhost:8080/"
    },
    "id": "REODxJGPxCmn",
    "outputId": "79f4e0a6-5a6c-426b-d175-9356d0583fae"
   },
   "outputs": [
    {
     "name": "stdout",
     "output_type": "stream",
     "text": [
      "Accuracy: 87.32%\n"
     ]
    }
   ],
   "source": [
    "scores = model.evaluate(X_test, y_test, verbose=0)\n",
    "print(\"Accuracy: %.2f%%\" % (scores[1]*100))\n"
   ]
  },
  {
   "cell_type": "code",
   "execution_count": 2,
   "metadata": {},
   "outputs": [],
   "source": [
    "import pandas as pd\n",
    "#creating Accuarcy Table for all models\n",
    "col_names = [\"Model\", \"Accuracy_for_Train\",\"Accuracy_for_Test\"]\n",
    "Accuracy_Table = pd.DataFrame(columns = col_names)"
   ]
  },
  {
   "cell_type": "code",
   "execution_count": 3,
   "metadata": {},
   "outputs": [
    {
     "data": {
      "text/html": [
       "<div>\n",
       "<style scoped>\n",
       "    .dataframe tbody tr th:only-of-type {\n",
       "        vertical-align: middle;\n",
       "    }\n",
       "\n",
       "    .dataframe tbody tr th {\n",
       "        vertical-align: top;\n",
       "    }\n",
       "\n",
       "    .dataframe thead th {\n",
       "        text-align: right;\n",
       "    }\n",
       "</style>\n",
       "<table border=\"1\" class=\"dataframe\">\n",
       "  <thead>\n",
       "    <tr style=\"text-align: right;\">\n",
       "      <th></th>\n",
       "      <th>Model</th>\n",
       "      <th>Accuracy_for_Train</th>\n",
       "      <th>Accuracy_for_Test</th>\n",
       "    </tr>\n",
       "  </thead>\n",
       "  <tbody>\n",
       "    <tr>\n",
       "      <th>0</th>\n",
       "      <td>Naive_bayes</td>\n",
       "      <td>86.13</td>\n",
       "      <td>84.50</td>\n",
       "    </tr>\n",
       "    <tr>\n",
       "      <th>1</th>\n",
       "      <td>LSTM</td>\n",
       "      <td>92.62</td>\n",
       "      <td>87.32</td>\n",
       "    </tr>\n",
       "    <tr>\n",
       "      <th>2</th>\n",
       "      <td>TFDistilBertForSequenceClassification</td>\n",
       "      <td>82.66</td>\n",
       "      <td>80.32</td>\n",
       "    </tr>\n",
       "  </tbody>\n",
       "</table>\n",
       "</div>"
      ],
      "text/plain": [
       "                                   Model  Accuracy_for_Train  \\\n",
       "0                            Naive_bayes               86.13   \n",
       "1                                   LSTM               92.62   \n",
       "2  TFDistilBertForSequenceClassification               82.66   \n",
       "\n",
       "   Accuracy_for_Test  \n",
       "0              84.50  \n",
       "1              87.32  \n",
       "2              80.32  "
      ]
     },
     "execution_count": 3,
     "metadata": {},
     "output_type": "execute_result"
    }
   ],
   "source": [
    "Accuracy_Table.loc[len(Accuracy_Table)]=[\"Naive_bayes\",86.13,84.50]\n",
    "Accuracy_Table.loc[len(Accuracy_Table)]=[\"LSTM\",92.62,87.32]\n",
    "Accuracy_Table.loc[len(Accuracy_Table)]=[\"TFDistilBertForSequenceClassification\",82.66,80.32]\n",
    "Accuracy_Table"
   ]
  },
  {
   "cell_type": "code",
   "execution_count": 4,
   "metadata": {},
   "outputs": [
    {
     "data": {
      "image/png": "[encoded data removed]",
      "text/plain": [
       "<Figure size 1224x576 with 1 Axes>"
      ]
     },
     "metadata": {
      "needs_background": "light"
     },
     "output_type": "display_data"
    }
   ],
   "source": [
    "import matplotlib.pyplot as plt\n",
    "%matplotlib inline\n",
    "import numpy as np\n",
    "\n",
    "Train_Accuracy = Accuracy_Table['Accuracy_for_Train']\n",
    "Test_Accuracy = Accuracy_Table['Accuracy_for_Test']\n",
    "Model = Accuracy_Table['Model']\n",
    "   \n",
    "data = {'Train_Accuracy': Train_Accuracy,\n",
    "        'Test_Accuracy': Test_Accuracy,\n",
    "        'Model':Model\n",
    "       }\n",
    "\n",
    "df = pd.DataFrame(data,columns=['Train_Accuracy','Test_Accuracy','Model'],index=[0,1,2])\n",
    "df.set_index('Model',inplace=True)\n",
    "\n",
    "df.plot.barh(figsize=(17,8),color=['orange','violet'])\n",
    "\n",
    "for i, v in enumerate(Train_Accuracy):\n",
    "    plt.text(v+0.5, i -0.2, str(v), color='black')\n",
    "for i, v in enumerate(Test_Accuracy):\n",
    "    plt.text(v+0.5, i +0.1, str(v), color='brown')\n",
    "\n",
    "plt.title('Accuracy Comparison')\n",
    "plt.ylabel('Models')\n",
    "plt.xlabel('Accuracy')\n",
    "plt.xticks(np.arange(0, 105, 9))\n",
    "\n",
    "plt.show()\n"
   ]
  },
  {
   "cell_type": "markdown",
   "metadata": {},
   "source": [
    "The accuracy of several models for the IMDB Large Movie Dataset is represented in the bar chart above. For the IMDB Large Movie dataset, Machine Learning Models such as Naive Bayes do not perform well. The following Bar plot shows that LSTM performs the best, with a training data accuracy of roughly 93 percent and a testing data accuracy of around 87.32 percent.\n"
   ]
  }
 ],
 "metadata": {
  "colab": {
   "collapsed_sections": [],
   "name": "Imdb.ipynb",
   "provenance": [],
   "toc_visible": true
  },
  "kernelspec": {
   "display_name": "Python 3 (ipykernel)",
   "language": "python",
   "name": "python3"
  },
  "language_info": {
   "codemirror_mode": {
    "name": "ipython",
    "version": 3
   },
   "file_extension": ".py",
   "mimetype": "text/x-python",
   "name": "python",
   "nbconvert_exporter": "python",
   "pygments_lexer": "ipython3",
   "version": "3.9.7"
  }
 },
 "nbformat": 4,
 "nbformat_minor": 1
}
