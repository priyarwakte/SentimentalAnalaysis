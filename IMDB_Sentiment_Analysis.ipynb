{
 "cells": [
  {
   "cell_type": "markdown",
   "metadata": {
    "id": "Cq8EVlgOykVm"
   },
   "source": [
    "# Preprocessing IMDB Dataset\n",
    "# ML Project Phase 2 Submission\n",
    "\n",
    "\n",
    "\n",
    "Group Members: -\n",
    "\n",
    "Name: - Priyanka R Wakte\n",
    "Student Id :- 1001920878\n",
    "Email Id :- prw0878@mavs.uta.edu\n",
    "\n",
    "Name: - Harideep Thalla\n",
    "Student Id :- 1001947439\n",
    "Email Id :- hxt7439@mavs.uta.edu\n",
    "\n",
    "Name: - Rahul Mogillapalli\n",
    "Student Id :-1001957535\n",
    "Email Id :- Rxm7353@mavs.uta.edu\n",
    "\n"
   ]
  },
  {
   "cell_type": "markdown",
   "metadata": {
    "id": "bQpja1DZ-9Ph"
   },
   "source": [
    "# Sentiment Analysis on IMDB Reviews\n"
   ]
  },
  {
   "cell_type": "code",
   "execution_count": 2,
   "metadata": {
    "colab": {
     "base_uri": "https://localhost:8080/"
    },
    "id": "A4nC44orh_8T",
    "outputId": "cf748406-36e9-48c4-b575-652c1bcbd728"
   },
   "outputs": [
    {
     "name": "stderr",
     "output_type": "stream",
     "text": [
      "[nltk_data] Downloading package wordnet to\n",
      "[nltk_data]     C:\\Users\\priya\\AppData\\Roaming\\nltk_data...\n",
      "[nltk_data]   Package wordnet is already up-to-date!\n",
      "[nltk_data] Downloading package punkt to\n",
      "[nltk_data]     C:\\Users\\priya\\AppData\\Roaming\\nltk_data...\n",
      "[nltk_data]   Package punkt is already up-to-date!\n",
      "[nltk_data] Downloading package stopwords to\n",
      "[nltk_data]     C:\\Users\\priya\\AppData\\Roaming\\nltk_data...\n",
      "[nltk_data]   Package stopwords is already up-to-date!\n"
     ]
    }
   ],
   "source": [
    "import pandas as pd\n",
    "import numpy as np\n",
    "import os\n",
    "import csv \n",
    "import numpy as np\n",
    "from pandas import DataFrame, read_csv\n",
    "from nltk.corpus import stopwords\n",
    "from matplotlib import pyplot\n",
    "import seaborn as sns\n",
    "import nltk\n",
    "import re\n",
    "from nltk.tokenize import word_tokenize\n",
    "from nltk.stem import SnowballStemmer \n",
    "from nltk.stem import PorterStemmer \n",
    "from nltk.stem import LancasterStemmer\n",
    "from nltk.stem import WordNetLemmatizer\n",
    "\n",
    "nltk.download('wordnet')\n",
    "nltk.download('punkt')\n",
    "nltk.download('stopwords')\n",
    "stop_words=set(stopwords.words('english'))\n"
   ]
  },
  {
   "cell_type": "code",
   "execution_count": 21,
   "metadata": {
    "id": "dh3XRMRf-9P3"
   },
   "outputs": [],
   "source": [
    "def tokenize(t):\n",
    "    \n",
    "    t = re.sub(\"\\\\s\", \" \", t)\n",
    "    \n",
    "    t = re.sub(\"[^a-z' ]\", \"\", t) \n",
    "    \n",
    "    t = t.lower()\n",
    "       \n",
    "    w_bow = word_tokenize(t)\n",
    "    bow = []\n",
    "    for k in w_bow:\n",
    "        if k not in stop_words:\n",
    "            bow.append(k)\n",
    "            \n",
    "    sstem = SnowballStemmer(language='english')\n",
    "    pstem = PorterStemmer()\n",
    "    lstem = LancasterStemmer()\n",
    "    \n",
    "    for word in bow:    \n",
    "        pstem_text=pstem.stem(word)\n",
    "        sstem_text=sstem.stem(word)\n",
    "        lstem_text=lstem.stem(word)\n",
    "\n",
    "    final_bow=[]\n",
    "    \n",
    "    lemmatizer = WordNetLemmatizer()\n",
    "    for word in bow:\n",
    "      final_bow.append(lemmatizer.lemmatize(word))\n",
    "\n",
    "    return final_bow"
   ]
  },
  {
   "cell_type": "code",
   "execution_count": 22,
   "metadata": {
    "id": "ZDwrjCef-9P7"
   },
   "outputs": [],
   "source": [
    "def load_dt(dirname):\n",
    "    a, b = [], []\n",
    "    \n",
    "    for a_val, b_label in enumerate(['neg', 'pos']):\n",
    "        b_dir = os.path.join(dirname, b_label)\n",
    "        for filename in os.listdir(b_dir):\n",
    "            filepath = os.path.join(b_dir, filename)\n",
    "            with open(filepath,encoding=\"UTF-8\" ) as f:\n",
    "                bow = tokenize(f.read())\n",
    "            a.append(bow)\n",
    "            b.append(a_val) \n",
    "    return a, b"
   ]
  },
  {
   "cell_type": "code",
   "execution_count": 23,
   "metadata": {
    "colab": {
     "base_uri": "https://localhost:8080/"
    },
    "id": "05R3ExcPnVtv",
    "outputId": "d431c36a-ea75-4cb1-9bd0-8af4dc339516"
   },
   "outputs": [],
   "source": [
    "atrain, btrain = load_dt('C:/Users/priya/OneDrive - University of Texas at Arlington/Documents/Machine Learning/aclImdb/train/')\n"
   ]
  },
  {
   "cell_type": "code",
   "execution_count": 24,
   "metadata": {
    "colab": {
     "base_uri": "https://localhost:8080/"
    },
    "id": "7VvENFwl6gIW",
    "outputId": "5fd114a2-5f81-47f4-98c5-11df6776b191"
   },
   "outputs": [
    {
     "name": "stdout",
     "output_type": "stream",
     "text": [
      "['hat', 'hell', 'way', 'kick', 'character', 'ony', 'tark', 'aka', 'ronan', 'well', 'arvel', 'inematic', 'niverse', 'little', 'know', 'time', 'movie', \"'s\", 'release', 'quite', 'big', 'burden', 'riding', 'success', 'born', 'play', 'part', 'mean', \"'s\", 'perfect', 'fit', 'play', 'character', 'ony', 'tark', 'aka', 'ronan', 'giving', 'one', 'personal', 'performance', 'career', \"'d\", 'imagine', 'considering', 'perfectly', 'fill', 'character', 'avreau', 'showed', 'talent', 'action', 'movie', 'director', 'careerlaunching', 'movie', 'avreau', 'perfect', 'summer', 'action', 'movie', 'blockbuster', 'wellwritten', 'lead', 'character', 'actionpacked', 'story', 'literal', 'start', 'finish', 'ow', 'villain', \"n't\", 'fleshed', 'regard', 'motif', 'switching', 'side', 'eff', 'ridge', 'give', 'competent', 'performance', 'badiah', 'tane', 'definitely', 'doesnt', 'come', 'life', 'like', \"'s\", 'performance', 'ronan', 'still', 'bad', 'performance', 'regard', 'mustwatch', 'arvel', 'ronan', 'action', 'movie', 'fan', 'alike', 'reason', \"'ve\", 'living', 'rock', 'last', 'year', 'yet', 'watch', 'film', 'entry', 'franchise', 'launching', 'movie', 'strongly', 'recommend', 'go', 'find', 'copy', 'high', 'octane', 'actionpacked', 'career', 'restarting', 'movie', 'enjoy']\n"
     ]
    }
   ],
   "source": [
    "text=\"What a hell of a way to kick off the character of Tony Stark aka Iron-Man as well as the Marvel Cinematic Universe, little did we know it at the time of this movie's release but it had quite a big burden riding on its success. RDJ was born to play this part, I mean that's just how perfect he fits and plays the character of Tony Stark aka Iron-Man, giving one of the most personal performances of his career I'd imagine, considering just how perfectly he fills out the character. Jon Favreau showed his talents as an action movie director in this career-launching of a movie for both Favreau and RDJ, this was the perfect summer action movie blockbuster with a well-written lead character and an action-packed story from literal start to finish. Now, the villain isn't very fleshed out in regards to his motives or of switching sides, Jeff Bridges gives a competent performance as Obadiah Stane but he definitely doesn’t come to life like RDJ's performance as Iron-Man but still not a bad performance in any regard. This is a must-watch for any Marvel, Iron-Man, MCU, or action movie fans alike, so if for some reason you've been living under a rock for the last 13 years and you have yet to watch the 24 film entry franchise launching of a movie, then I strongly recommend you go out and find yourself a copy of this high octane, action-packed, and career re-starting movie and enjoy yourself\"\n",
    "bow=tokenize(text)\n",
    "print(bow)\n"
   ]
  },
  {
   "cell_type": "code",
   "execution_count": 15,
   "metadata": {},
   "outputs": [],
   "source": [
    "def imdb_data_preprocess(inpath, outpath=\"./\", name=\"imdb_tr.csv\", mix=False):\n",
    "    global stoplist\n",
    "    stoplist = set(stopwords.words(\"english\"))\n",
    "    review = []\n",
    "    polarity = []\n",
    "\n",
    "    \n",
    "\n",
    "    for filename in os.listdir(inpath+\"pos\"):\n",
    "        data = open(inpath+\"pos/\"+filename, 'r' , encoding=\"ISO-8859-1\").read()\n",
    "        data = re.sub(\"[^a-z' ]\", \"\", data)\n",
    "        data = re.sub(\"\\\\s\", \" \", data) \n",
    "        data = del_stpwrds(data, stoplist)\n",
    "        \n",
    "        review.append(data)\n",
    "        polarity.append(\"Positive\")\n",
    "        \n",
    "\n",
    "    for filename in os.listdir(inpath+\"neg\"):\n",
    "        data = open(inpath+\"neg/\"+filename, 'r' , encoding=\"ISO-8859-1\").read()\n",
    "        data = re.sub(\"[^a-z' ]\", \"\", data)\n",
    "        data = re.sub(\"\\\\s\", \" \", data) \n",
    "        data = del_stpwrds(data, stoplist)\n",
    "        \n",
    "        review.append(data)\n",
    "        polarity.append(\"Negative\")\n",
    "        \n",
    "\n",
    "    Dataset = list(zip(review,polarity))\n",
    "\n",
    "    if mix:\n",
    "        np.random.shuffle(Dataset)\n",
    "\n",
    "    df = pd.DataFrame(data = Dataset, columns=['review', 'polarity'])\n",
    "    df.to_csv(outpath+name, index=False, header=True)\n",
    "    pass\n"
   ]
  },
  {
   "cell_type": "code",
   "execution_count": 16,
   "metadata": {},
   "outputs": [],
   "source": [
    "def del_stpwrds(sentence, stopwords):\n",
    "    sentences = sentence.split()\n",
    "    reswords  = [word for word in sentences if word.lower() not in stopwords]\n",
    "    r = ' '.join(reswords)\n",
    "    return r"
   ]
  },
  {
   "cell_type": "code",
   "execution_count": 17,
   "metadata": {},
   "outputs": [],
   "source": [
    "imdb_data_preprocess(inpath='C:/Users/priya/OneDrive - University of Texas at Arlington/Documents/Machine Learning/aclImdb/train/', mix=True)"
   ]
  },
  {
   "cell_type": "code",
   "execution_count": 18,
   "metadata": {},
   "outputs": [
    {
     "data": {
      "text/html": [
       "<div>\n",
       "<style scoped>\n",
       "    .dataframe tbody tr th:only-of-type {\n",
       "        vertical-align: middle;\n",
       "    }\n",
       "\n",
       "    .dataframe tbody tr th {\n",
       "        vertical-align: top;\n",
       "    }\n",
       "\n",
       "    .dataframe thead th {\n",
       "        text-align: right;\n",
       "    }\n",
       "</style>\n",
       "<table border=\"1\" class=\"dataframe\">\n",
       "  <thead>\n",
       "    <tr style=\"text-align: right;\">\n",
       "      <th></th>\n",
       "      <th>review</th>\n",
       "      <th>polarity</th>\n",
       "    </tr>\n",
       "  </thead>\n",
       "  <tbody>\n",
       "    <tr>\n",
       "      <th>0</th>\n",
       "      <td>rue tory f riendship hat hook outh frica nd wa...</td>\n",
       "      <td>Positive</td>\n",
       "    </tr>\n",
       "    <tr>\n",
       "      <th>1</th>\n",
       "      <td>ow hired movie rad ourif e excellent actor eve...</td>\n",
       "      <td>Negative</td>\n",
       "    </tr>\n",
       "    <tr>\n",
       "      <th>2</th>\n",
       "      <td>e go appointment turned record ending fter loo...</td>\n",
       "      <td>Negative</td>\n",
       "    </tr>\n",
       "    <tr>\n",
       "      <th>3</th>\n",
       "      <td>idea r zzard damn funny really boggles mind we...</td>\n",
       "      <td>Positive</td>\n",
       "    </tr>\n",
       "    <tr>\n",
       "      <th>4</th>\n",
       "      <td>nyone familiar reviews nternet ovie atabase kn...</td>\n",
       "      <td>Negative</td>\n",
       "    </tr>\n",
       "    <tr>\n",
       "      <th>...</th>\n",
       "      <td>...</td>\n",
       "      <td>...</td>\n",
       "    </tr>\n",
       "    <tr>\n",
       "      <th>24995</th>\n",
       "      <td>film best film im arrey ever made arrey usual ...</td>\n",
       "      <td>Positive</td>\n",
       "    </tr>\n",
       "    <tr>\n",
       "      <th>24996</th>\n",
       "      <td>must say saw trailer excited uturistic soldier...</td>\n",
       "      <td>Negative</td>\n",
       "    </tr>\n",
       "    <tr>\n",
       "      <th>24997</th>\n",
       "      <td>found orrorvision almost unwatchable hile minu...</td>\n",
       "      <td>Negative</td>\n",
       "    </tr>\n",
       "    <tr>\n",
       "      <th>24998</th>\n",
       "      <td>noticed amusement end credits etroit thanked p...</td>\n",
       "      <td>Negative</td>\n",
       "    </tr>\n",
       "    <tr>\n",
       "      <th>24999</th>\n",
       "      <td>movie craptacular emotionally uninvolved every...</td>\n",
       "      <td>Negative</td>\n",
       "    </tr>\n",
       "  </tbody>\n",
       "</table>\n",
       "<p>25000 rows × 2 columns</p>\n",
       "</div>"
      ],
      "text/plain": [
       "                                                  review  polarity\n",
       "0      rue tory f riendship hat hook outh frica nd wa...  Positive\n",
       "1      ow hired movie rad ourif e excellent actor eve...  Negative\n",
       "2      e go appointment turned record ending fter loo...  Negative\n",
       "3      idea r zzard damn funny really boggles mind we...  Positive\n",
       "4      nyone familiar reviews nternet ovie atabase kn...  Negative\n",
       "...                                                  ...       ...\n",
       "24995  film best film im arrey ever made arrey usual ...  Positive\n",
       "24996  must say saw trailer excited uturistic soldier...  Negative\n",
       "24997  found orrorvision almost unwatchable hile minu...  Negative\n",
       "24998  noticed amusement end credits etroit thanked p...  Negative\n",
       "24999  movie craptacular emotionally uninvolved every...  Negative\n",
       "\n",
       "[25000 rows x 2 columns]"
      ]
     },
     "execution_count": 18,
     "metadata": {},
     "output_type": "execute_result"
    }
   ],
   "source": [
    "df = pd.read_csv('C:/Users/priya/OneDrive - University of Texas at Arlington/Documents/Machine Learning/aclImdb/imdb_tr.csv')\n",
    "df"
   ]
  },
  {
   "cell_type": "code",
   "execution_count": 19,
   "metadata": {},
   "outputs": [
    {
     "data": {
      "text/html": [
       "<div>\n",
       "<style scoped>\n",
       "    .dataframe tbody tr th:only-of-type {\n",
       "        vertical-align: middle;\n",
       "    }\n",
       "\n",
       "    .dataframe tbody tr th {\n",
       "        vertical-align: top;\n",
       "    }\n",
       "\n",
       "    .dataframe thead th {\n",
       "        text-align: right;\n",
       "    }\n",
       "</style>\n",
       "<table border=\"1\" class=\"dataframe\">\n",
       "  <thead>\n",
       "    <tr style=\"text-align: right;\">\n",
       "      <th></th>\n",
       "      <th>review</th>\n",
       "      <th>polarity</th>\n",
       "      <th>totalwords</th>\n",
       "    </tr>\n",
       "  </thead>\n",
       "  <tbody>\n",
       "    <tr>\n",
       "      <th>0</th>\n",
       "      <td>rue tory f riendship hat hook outh frica nd wa...</td>\n",
       "      <td>Positive</td>\n",
       "      <td>428</td>\n",
       "    </tr>\n",
       "    <tr>\n",
       "      <th>1</th>\n",
       "      <td>ow hired movie rad ourif e excellent actor eve...</td>\n",
       "      <td>Negative</td>\n",
       "      <td>51</td>\n",
       "    </tr>\n",
       "    <tr>\n",
       "      <th>2</th>\n",
       "      <td>e go appointment turned record ending fter loo...</td>\n",
       "      <td>Negative</td>\n",
       "      <td>82</td>\n",
       "    </tr>\n",
       "    <tr>\n",
       "      <th>3</th>\n",
       "      <td>idea r zzard damn funny really boggles mind we...</td>\n",
       "      <td>Positive</td>\n",
       "      <td>23</td>\n",
       "    </tr>\n",
       "    <tr>\n",
       "      <th>4</th>\n",
       "      <td>nyone familiar reviews nternet ovie atabase kn...</td>\n",
       "      <td>Negative</td>\n",
       "      <td>127</td>\n",
       "    </tr>\n",
       "    <tr>\n",
       "      <th>...</th>\n",
       "      <td>...</td>\n",
       "      <td>...</td>\n",
       "      <td>...</td>\n",
       "    </tr>\n",
       "    <tr>\n",
       "      <th>24995</th>\n",
       "      <td>film best film im arrey ever made arrey usual ...</td>\n",
       "      <td>Positive</td>\n",
       "      <td>71</td>\n",
       "    </tr>\n",
       "    <tr>\n",
       "      <th>24996</th>\n",
       "      <td>must say saw trailer excited uturistic soldier...</td>\n",
       "      <td>Negative</td>\n",
       "      <td>144</td>\n",
       "    </tr>\n",
       "    <tr>\n",
       "      <th>24997</th>\n",
       "      <td>found orrorvision almost unwatchable hile minu...</td>\n",
       "      <td>Negative</td>\n",
       "      <td>43</td>\n",
       "    </tr>\n",
       "    <tr>\n",
       "      <th>24998</th>\n",
       "      <td>noticed amusement end credits etroit thanked p...</td>\n",
       "      <td>Negative</td>\n",
       "      <td>124</td>\n",
       "    </tr>\n",
       "    <tr>\n",
       "      <th>24999</th>\n",
       "      <td>movie craptacular emotionally uninvolved every...</td>\n",
       "      <td>Negative</td>\n",
       "      <td>75</td>\n",
       "    </tr>\n",
       "  </tbody>\n",
       "</table>\n",
       "<p>25000 rows × 3 columns</p>\n",
       "</div>"
      ],
      "text/plain": [
       "                                                  review  polarity  totalwords\n",
       "0      rue tory f riendship hat hook outh frica nd wa...  Positive         428\n",
       "1      ow hired movie rad ourif e excellent actor eve...  Negative          51\n",
       "2      e go appointment turned record ending fter loo...  Negative          82\n",
       "3      idea r zzard damn funny really boggles mind we...  Positive          23\n",
       "4      nyone familiar reviews nternet ovie atabase kn...  Negative         127\n",
       "...                                                  ...       ...         ...\n",
       "24995  film best film im arrey ever made arrey usual ...  Positive          71\n",
       "24996  must say saw trailer excited uturistic soldier...  Negative         144\n",
       "24997  found orrorvision almost unwatchable hile minu...  Negative          43\n",
       "24998  noticed amusement end credits etroit thanked p...  Negative         124\n",
       "24999  movie craptacular emotionally uninvolved every...  Negative          75\n",
       "\n",
       "[25000 rows x 3 columns]"
      ]
     },
     "execution_count": 19,
     "metadata": {},
     "output_type": "execute_result"
    }
   ],
   "source": [
    "#df1 = df[df['polarity']==1]\n",
    "df['totalwords'] = [len(x.split()) for x in df['review'].tolist()]\n",
    "df"
   ]
  },
  {
   "cell_type": "code",
   "execution_count": 20,
   "metadata": {},
   "outputs": [
    {
     "data": {
      "image/png": "[encoded data removed]",
      "text/plain": [
       "<Figure size 432x288 with 1 Axes>"
      ]
     },
     "metadata": {
      "needs_background": "light"
     },
     "output_type": "display_data"
    }
   ],
   "source": [
    "ax = sns.boxplot(x=\"polarity\", y=\"totalwords\", data=df)"
   ]
  }
 ],
 "metadata": {
  "accelerator": "GPU",
  "colab": {
   "collapsed_sections": [],
   "name": "IMDB Sentiment PreProcessing.ipynb",
   "provenance": []
  },
  "kernelspec": {
   "display_name": "Python 3 (ipykernel)",
   "language": "python",
   "name": "python3"
  },
  "language_info": {
   "codemirror_mode": {
    "name": "ipython",
    "version": 3
   },
   "file_extension": ".py",
   "mimetype": "text/x-python",
   "name": "python",
   "nbconvert_exporter": "python",
   "pygments_lexer": "ipython3",
   "version": "3.9.7"
  }
 },
 "nbformat": 4,
 "nbformat_minor": 1
}
